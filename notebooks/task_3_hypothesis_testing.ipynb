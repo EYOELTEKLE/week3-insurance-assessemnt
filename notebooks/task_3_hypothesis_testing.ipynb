{
 "cells": [
  {
   "cell_type": "markdown",
   "metadata": {},
   "source": [
    "# Task 3: Statistical Hypothesis Testing of Risk Drivers\n",
    "\n",
    "This notebook statistically validates or rejects key hypotheses about risk drivers, forming the basis for a new segmentation strategy. We use claim frequency, claim severity, and margin as our KPIs.\n"
   ]
  },
  {
   "cell_type": "markdown",
   "metadata": {},
   "source": [
    "## Methodology\n",
    "- **Claim Frequency:** Proportion of policies with at least one claim.\n",
    "- **Claim Severity:** Average amount of a claim, given a claim occurred.\n",
    "- **Margin:** TotalPremium - TotalClaims.\n",
    "\n",
    "For each hypothesis, we split the data into two groups and use appropriate statistical tests (chi-squared for frequencies, t-test for means). We interpret p-values at the 0.05 significance level.\n"
   ]
  },
  {
   "cell_type": "code",
   "execution_count": 2,
   "metadata": {},
   "outputs": [],
   "source": [
    "import sys\n",
    "import os\n",
    "import pandas as pd\n",
    "import numpy as np\n",
    "from scipy.stats import ttest_ind, chi2_contingency\n",
    "import warnings\n",
    "sys.path.append(os.path.abspath(os.path.join('..')))\n",
    "warnings.filterwarnings('ignore')\n",
    "\n",
    "# Load the processed data (update path if needed)\n",
    "df = pd.read_csv('../data/processed_task1.csv')\n",
    "\n",
    "# KPI calculations\n",
    "df['ClaimOccurred'] = (df['TotalClaims'] > 0).astype(int)\n",
    "df['Margin'] = df['TotalPremium'] - df['TotalClaims']\n"
   ]
  },
  {
   "cell_type": "markdown",
   "metadata": {},
   "source": [
    "## Hypothesis 1: No Risk Differences Across Provinces\n",
    "\n",
    "- **H₀:** There are no risk differences across provinces (in frequency or severity).\n",
    "- **Test:** Compare claim frequency (chi-squared) and claim severity (t-test) between two provinces.\n"
   ]
  },
  {
   "cell_type": "code",
   "execution_count": 3,
   "metadata": {},
   "outputs": [
    {
     "name": "stdout",
     "output_type": "stream",
     "text": [
      "Provinces compared: Gauteng vs Western Cape\n",
      "Claim Frequency Chi2 p-value: 0.0000\n",
      "Claim Severity t-test p-value: 0.0306\n"
     ]
    }
   ],
   "source": [
    "# Select two provinces with the largest sample sizes\n",
    "top_provinces = df['Province'].value_counts().nlargest(2).index.tolist()\n",
    "province_a, province_b = top_provinces[0], top_provinces[1]\n",
    "group_a = df[df['Province'] == province_a]\n",
    "group_b = df[df['Province'] == province_b]\n",
    "\n",
    "# Claim Frequency: Chi-squared test\n",
    "contingency = pd.DataFrame({\n",
    "    province_a: [group_a['ClaimOccurred'].sum(), group_a['ClaimOccurred'].count() - group_a['ClaimOccurred'].sum()],\n",
    "    province_b: [group_b['ClaimOccurred'].sum(), group_b['ClaimOccurred'].count() - group_b['ClaimOccurred'].sum()]\n",
    "    }, index=['ClaimOccurred', 'NoClaim'])\n",
    "chi2, p_chi2, _, _ = chi2_contingency(contingency)\n",
    "\n",
    "# Claim Severity: t-test (only where claim occurred)\n",
    "severity_a = group_a[group_a['ClaimOccurred'] == 1]['TotalClaims']\n",
    "severity_b = group_b[group_b['ClaimOccurred'] == 1]['TotalClaims']\n",
    "t_stat, p_ttest = ttest_ind(severity_a, severity_b, equal_var=False, nan_policy='omit')\n",
    "\n",
    "print(f'Provinces compared: {province_a} vs {province_b}')\n",
    "print(f'Claim Frequency Chi2 p-value: {p_chi2:.4f}')\n",
    "print(f'Claim Severity t-test p-value: {p_ttest:.4f}')\n"
   ]
  },
  {
   "cell_type": "markdown",
   "metadata": {},
   "source": [
    "## Hypothesis 2: No Risk Differences Between Zip Codes\n",
    "\n",
    "- **H₀:** There are no risk differences between zip codes (in frequency or severity).\n",
    "- **Test:** Compare claim frequency (chi-squared) and claim severity (t-test) between two zip codes.\n"
   ]
  },
  {
   "cell_type": "code",
   "execution_count": 4,
   "metadata": {},
   "outputs": [
    {
     "name": "stdout",
     "output_type": "stream",
     "text": [
      "Zip codes compared: 2000 vs 122\n",
      "Claim Frequency Chi2 p-value: 0.0579\n",
      "Claim Severity t-test p-value: 0.7002\n"
     ]
    }
   ],
   "source": [
    "# Select two zip codes with the largest sample sizes\n",
    "top_zips = df['PostalCode'].value_counts().nlargest(2).index.tolist()\n",
    "zip_a, zip_b = top_zips[0], top_zips[1]\n",
    "group_a = df[df['PostalCode'] == zip_a]\n",
    "group_b = df[df['PostalCode'] == zip_b]\n",
    "\n",
    "# Claim Frequency: Chi-squared test\n",
    "contingency_zip = pd.DataFrame({\n",
    "    zip_a: [group_a['ClaimOccurred'].sum(), group_a['ClaimOccurred'].count() - group_a['ClaimOccurred'].sum()],\n",
    "    zip_b: [group_b['ClaimOccurred'].sum(), group_b['ClaimOccurred'].count() - group_b['ClaimOccurred'].sum()]\n",
    "    }, index=['ClaimOccurred', 'NoClaim'])\n",
    "chi2_zip, p_chi2_zip, _, _ = chi2_contingency(contingency_zip)\n",
    "\n",
    "# Claim Severity: t-test\n",
    "severity_a_zip = group_a[group_a['ClaimOccurred'] == 1]['TotalClaims']\n",
    "severity_b_zip = group_b[group_b['ClaimOccurred'] == 1]['TotalClaims']\n",
    "t_stat_zip, p_ttest_zip = ttest_ind(severity_a_zip, severity_b_zip, equal_var=False, nan_policy='omit')\n",
    "\n",
    "print(f'Zip codes compared: {zip_a} vs {zip_b}')\n",
    "print(f'Claim Frequency Chi2 p-value: {p_chi2_zip:.4f}')\n",
    "print(f'Claim Severity t-test p-value: {p_ttest_zip:.4f}')\n"
   ]
  },
  {
   "cell_type": "markdown",
   "metadata": {},
   "source": [
    "## Hypothesis 3: No Significant Margin Difference Between Zip Codes\n",
    "\n",
    "- **H₀:** There are no significant margin (profit) differences between zip codes.\n",
    "- **Test:** Compare margin (t-test) between two zip codes.\n"
   ]
  },
  {
   "cell_type": "code",
   "execution_count": 5,
   "metadata": {},
   "outputs": [
    {
     "name": "stdout",
     "output_type": "stream",
     "text": [
      "Margin t-test p-value (zip 2000 vs 122): 0.2445\n"
     ]
    }
   ],
   "source": [
    "margin_a = group_a['Margin']\n",
    "margin_b = group_b['Margin']\n",
    "t_stat_margin, p_margin = ttest_ind(margin_a, margin_b, equal_var=False, nan_policy='omit')\n",
    "print(f'Margin t-test p-value (zip {zip_a} vs {zip_b}): {p_margin:.4f}')\n"
   ]
  },
  {
   "cell_type": "markdown",
   "metadata": {},
   "source": [
    "## Hypothesis 4: No Significant Risk Difference Between Women and Men\n",
    "\n",
    "- **H₀:** There are not significant risk differences between Women and Men.\n",
    "- **Test:** Compare claim frequency (chi-squared) and claim severity (t-test) between genders.\n"
   ]
  },
  {
   "cell_type": "code",
   "execution_count": 6,
   "metadata": {},
   "outputs": [
    {
     "name": "stdout",
     "output_type": "stream",
     "text": [
      "Claim Frequency Chi2 p-value (Female vs Male): 0.9515\n",
      "Claim Severity t-test p-value (Female vs Male): 0.5680\n"
     ]
    }
   ],
   "source": [
    "# Claim Frequency: Chi-squared test\n",
    "contingency_gender = pd.DataFrame({\n",
    "    'Female': [df[df['Gender'] == 'Female']['ClaimOccurred'].sum(), df[df['Gender'] == 'Female']['ClaimOccurred'].count() - df[df['Gender'] == 'Female']['ClaimOccurred'].sum()],\n",
    "    'Male': [df[df['Gender'] == 'Male']['ClaimOccurred'].sum(), df[df['Gender'] == 'Male']['ClaimOccurred'].count() - df[df['Gender'] == 'Male']['ClaimOccurred'].sum()]\n",
    "    }, index=['ClaimOccurred', 'NoClaim'])\n",
    "chi2_gender, p_chi2_gender, _, _ = chi2_contingency(contingency_gender)\n",
    "\n",
    "# Claim Severity: t-test\n",
    "severity_female = df[(df['Gender'] == 'Female') & (df['ClaimOccurred'] == 1)]['TotalClaims']\n",
    "severity_male = df[(df['Gender'] == 'Male') & (df['ClaimOccurred'] == 1)]['TotalClaims']\n",
    "t_stat_gender, p_ttest_gender = ttest_ind(severity_female, severity_male, equal_var=False, nan_policy='omit')\n",
    "\n",
    "print(f'Claim Frequency Chi2 p-value (Female vs Male): {p_chi2_gender:.4f}')\n",
    "print(f'Claim Severity t-test p-value (Female vs Male): {p_ttest_gender:.4f}')\n"
   ]
  },
  {
   "cell_type": "markdown",
   "metadata": {},
   "source": [
    "## Interpretation & Business Recommendations\n",
    "For each test, if p-value < 0.05, the null hypothesis is rejected and a business recommendation should be made.\n",
    "\n",
    "- **Example:** If we reject the null hypothesis for provinces (p < 0.01), and Gauteng exhibits a 15% higher loss ratio than Western Cape, a regional risk adjustment to our premiums may be warranted.\n"
   ]
  }
 ],
 "metadata": {
  "kernelspec": {
   "display_name": ".venv",
   "language": "python",
   "name": "python3"
  },
  "language_info": {
   "codemirror_mode": {
    "name": "ipython",
    "version": 3
   },
   "file_extension": ".py",
   "mimetype": "text/x-python",
   "name": "python",
   "nbconvert_exporter": "python",
   "pygments_lexer": "ipython3",
   "version": "3.12.7"
  }
 },
 "nbformat": 4,
 "nbformat_minor": 2
}
