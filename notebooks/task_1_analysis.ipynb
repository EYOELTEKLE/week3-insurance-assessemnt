{
    "cells": [
        {
            "cell_type": "markdown",
            "metadata": {},
            "source": [
                "# Task 1: EDA with a Modular Approach\n\n",
                "**Objective:** Perform exploratory data analysis using the custom-built modules from the `/src` directory."
            ]
        },
        {
            "cell_type": "markdown",
            "metadata": {},
            "source": [
                "## 1. Import Modules and Load Data"
            ]
        },
        {
            "cell_type": "code",
            "execution_count": null,
            "metadata": {},
            "outputs": [],
            "source": [
                "import sys\n",
                "import os\n",
                "# Add the parent directory to the path to import our modules\n",
                "sys.path.append(os.path.abspath(os.path.join('..')))\n\n",
                "from src.data_loader import load_data\n",
                "from src.eda import EDAAnalyzer\n",
                "from src.visualizer import Visualizer\n\n",
                "%matplotlib inline"
            ]
        },
        {
            "cell_type": "code",
            "execution_count": null,
            "metadata": {},
            "outputs": [],
            "source": [
                "# --- Load the Data ---\n",
                "# Replace 'your_data_file.xlsx' with the actual filename.\n",
                "file_path = '../data/your_data_file.xlsx'\n",
                "df = load_data(file_path)\n\n",
                "if df is not None:\n",
                "    display(df.head())"
            ]
        },
        {
            "cell_type": "markdown",
            "metadata": {},
            "source": [
                "## 2. Data Quality and Summarization\n\n",
                "Run initial checks for data types, missing values, and descriptive statistics."
            ]
        },
        {
            "cell_type": "code",
            "execution_count": null,
            "metadata": {},
            "outputs": [],
            "source": [
                "if df is not None:\n",
                "    analyzer = EDAAnalyzer(df)\n    \n    print('--- Data Info ---')\n",
                "    analyzer.get_data_info()\n    \n    print('\n--- Summary Statistics ---')\n",
                "    display(analyzer.get_summary_statistics())\n    \n    print('\n--- Missing Values ---')\n",
                "    display(analyzer.check_missing_values())"
            ]
        },
        {
            "cell_type": "markdown",
            "metadata": {},
            "source": [
                "## 3. Answering Guiding Questions\n\n",
                "Now, let's use our enhanced modules to address the specific questions from the project brief.\n\n",
                "### Guiding Question 1: What is the overall Loss Ratio and how does it vary?"
            ]
        },
        {
            "cell_type": "code",
            "execution_count": null,
            "metadata": {},
            "outputs": [],
            "source": [
                "if df is not None:\n",
                "    # Calculate overall loss ratio\n",
                "    overall_loss_ratio = analyzer.calculate_loss_ratio()\n",
                "    print(f'Overall Loss Ratio: {overall_loss_ratio:.2%}\\n')\n\n",
                "    # Calculate loss ratio by Province\n",
                "    print('--- Loss Ratio by Province ---')\n",
                "    display(analyzer.calculate_loss_ratio(group_by='Province'))\n\n",
                "    # Calculate loss ratio by Gender\n",
                "    print('\\n--- Loss Ratio by Gender ---')\n",
                "    display(analyzer.calculate_loss_ratio(group_by='Gender'))\n    \n    # Calculate loss ratio by VehicleType\n",
                "    print('\\n--- Loss Ratio by VehicleType ---')\n",
                "    display(analyzer.calculate_loss_ratio(group_by='VehicleType'))"
            ]
        },
        {
            "cell_type": "markdown",
            "metadata": {},
            "source": [
                "### Guiding Question 2: What are the distributions and are there outliers?"
            ]
        },
        {
            "cell_type": "code",
            "execution_count": null,
            "metadata": {},
            "outputs": [],
            "source": [
                "if df is not None:\n",
                "    visualizer = Visualizer(df)\n",
                "    numerical_cols = ['TotalPremium', 'TotalClaims', 'CustomValueEstimate', 'CalculatedPremiumPerTerm']\n    \n    # Plot distributions\n",
                "    visualizer.plot_distributions(numerical_cols)\n    \n    # Check for outliers\n",
                "    visualizer.plot_boxplots(['TotalClaims', 'CustomValueEstimate'])"
            ]
        },
        {
            "cell_type": "markdown",
            "metadata": {},
            "source": [
                "### Guiding Question 3: Which vehicle makes are associated with the highest claims?"
            ]
        },
        {
            "cell_type": "code",
            "execution_count": null,
            "metadata": {},
            "outputs": [],
            "source": [
                "if df is not None:\n",
                "    # Analyze claims by vehicle make\n",
                "    print('--- Average Claim Amount by Top 10 Vehicle Makes ---')\n",
                "    display(analyzer.analyze_claims_by_vehicle(top_n=10))"
            ]
        },
        {
            "cell_type": "markdown",
            "metadata": {},
            "source": [
                "## 4. Creative Visualizations\n\n",
                "Produce plots that capture key insights."
            ]
        },
        {
            "cell_type": "code",
            "execution_count": null,
            "metadata": {},
            "outputs": [],
            "source": [
                "if df is not None:\n",
                "    # Plot 1: Loss Ratio by Province\n",
                "    visualizer.plot_loss_ratio_by_category('Province')\n    \n    # Plot 2: Loss Ratio by Vehicle Type\n",
                "    visualizer.plot_loss_ratio_by_category('VehicleType')\n    \n    # Plot 3: Claim amounts by top vehicle makes\n",
                "    visualizer.plot_claims_by_make()"
            ]
        }
    ],
    "metadata": {
        "kernelspec": {
            "display_name": "Python 3",
            "language": "python",
            "name": "python3"
        },
        "language_info": {
            "codemirror_mode": {
                "name": "ipython",
                "version": 3
            },
            "file_extension": ".py",
            "mimetype": "text/x-python",
            "name": "python",
            "nbconvert_exporter": "python",
            "pygments_lexer": "ipython3",
            "version": "3.10.0"
        }
    },
    "nbformat": 4,
    "nbformat_minor": 2
}
